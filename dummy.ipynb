{
 "cells": [
  {
   "cell_type": "code",
   "execution_count": 27,
   "metadata": {},
   "outputs": [],
   "source": [
    "import pandas as pd\n",
    "import os\n",
    "import librosa\n",
    "import numpy as np\n",
    "from pydub import AudioSegment"
   ]
  },
  {
   "cell_type": "code",
   "execution_count": 48,
   "metadata": {},
   "outputs": [],
   "source": [
    "def get_duration(path):\n",
    "    try:\n",
    "        audio = AudioSegment.from_file(path)\n",
    "        duracao_segundos = len(audio) / 1000  # Converter milissegundos para segundos\n",
    "        return duracao_segundos\n",
    "    except:\n",
    "        return None"
   ]
  },
  {
   "cell_type": "code",
   "execution_count": null,
   "metadata": {},
   "outputs": [],
   "source": [
    "#display audio file\n",
    "import IPython.display as ipd\n",
    "ipd.Audio('cv-valid-train/sample-000051.mp3')"
   ]
  },
  {
   "cell_type": "code",
   "execution_count": 49,
   "metadata": {},
   "outputs": [],
   "source": [
    "valid_train = pd.read_csv(\"cv-valid-train.csv\")\n",
    "valid_train = valid_train[valid_train[\"gender\"] != \"other\"].copy()\n",
    "valid_train = valid_train[['filename', 'gender','text']].copy()\n",
    "valid_train.dropna(inplace=True)"
   ]
  },
  {
   "cell_type": "code",
   "execution_count": 51,
   "metadata": {},
   "outputs": [],
   "source": [
    "valid_train_male = valid_train[valid_train[\"gender\"] == \"male\"].copy()\n",
    "valid_train_male[\"text_lenght\"] = valid_train_male[\"text\"].apply(len)\n",
    "valid_train_male = valid_train_male[valid_train_male[\"text_lenght\"] > 75].copy()\n"
   ]
  },
  {
   "cell_type": "code",
   "execution_count": 52,
   "metadata": {},
   "outputs": [],
   "source": [
    "valid_train_male[\"duration\"] = valid_train_male[\"filename\"].apply(get_duration)\n",
    "valid_train_male.to_csv(\"valid_train_male_duration.csv\", index=False)"
   ]
  },
  {
   "cell_type": "code",
   "execution_count": 54,
   "metadata": {},
   "outputs": [],
   "source": [
    "valid_train_male_updated = pd.read_csv('valid_train_male_duration.csv')\n",
    "valid_train_male_reduced_5_sec = valid_train_male_updated[(valid_train_male_updated['duration'] >= 4.9) & (valid_train_male_updated['duration'] <= 6)].copy()\n",
    "valid_train_male_reduced_5_sec.to_csv(\"valid_train_male_reduced_5_sec.csv\", index=False)"
   ]
  },
  {
   "cell_type": "code",
   "execution_count": 28,
   "metadata": {},
   "outputs": [],
   "source": [
    "# function to get duration of audio file using librosa knowing that in the column filename we have the path of the audio file\n",
    "def get_duration_info(df):\n",
    "    for idx, row in df.iterrows():\n",
    "        \n",
    "        audio = AudioSegment.from_file(row[\"filename\"])\n",
    "        duracao_segundos = len(audio) / 1000  # Converter milissegundos para segundos\n",
    "        df.at[idx, \"duration\"] = duracao_segundos\n",
    "    \n",
    "        print(\"Error with file: \", row[\"filename\"])\n",
    "        \n",
    "    return df "
   ]
  },
  {
   "cell_type": "code",
   "execution_count": 81,
   "metadata": {},
   "outputs": [],
   "source": [
    "valid_train_female = valid_train[valid_train[\"gender\"] == \"female\"].copy()\n",
    "valid_train_female[\"text_lenght\"] = valid_train_female[\"text\"].apply(len)\n",
    "valid_train_female = valid_train_female[valid_train_female[\"text_lenght\"] > 65].copy()"
   ]
  },
  {
   "cell_type": "code",
   "execution_count": 83,
   "metadata": {},
   "outputs": [],
   "source": [
    "valid_train_female[\"duration\"] = valid_train_female[\"filename\"].apply(get_duration)\n",
    "valid_train_female.to_csv(\"valid_train_female_duration.csv\", index=False)"
   ]
  },
  {
   "cell_type": "code",
   "execution_count": 85,
   "metadata": {},
   "outputs": [],
   "source": [
    "valid_train_female_updated = pd.read_csv('valid_train_female_duration.csv')\n",
    "valid_train_female_reduced_5_sec = valid_train_female_updated[(valid_train_female_updated['duration'] >= 4.9) & (valid_train_female_updated['duration'] <= 6)].copy()\n",
    "valid_train_female_reduced_5_sec.to_csv(\"valid_train_female_reduced_5_sec.csv\", index=False)"
   ]
  }
 ],
 "metadata": {
  "kernelspec": {
   "display_name": "venv",
   "language": "python",
   "name": "python3"
  },
  "language_info": {
   "codemirror_mode": {
    "name": "ipython",
    "version": 3
   },
   "file_extension": ".py",
   "mimetype": "text/x-python",
   "name": "python",
   "nbconvert_exporter": "python",
   "pygments_lexer": "ipython3",
   "version": "3.8.6"
  },
  "orig_nbformat": 4
 },
 "nbformat": 4,
 "nbformat_minor": 2
}

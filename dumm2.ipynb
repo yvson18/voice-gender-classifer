{
 "cells": [
  {
   "cell_type": "code",
   "execution_count": 1,
   "metadata": {},
   "outputs": [],
   "source": [
    "import pandas as pd\n",
    "import shutil\n",
    "import os"
   ]
  },
  {
   "cell_type": "code",
   "execution_count": 8,
   "metadata": {},
   "outputs": [],
   "source": [
    "# male_dir = \"gender_dataset_v1/male/\"\n",
    "# male_dataset = pd.read_csv(\"valid_train_male_reduced_5_sec.csv\")\n",
    "\n",
    "# for idx, row in male_dataset.iterrows():\n",
    "#     shutil.copy(row[\"filename\"], male_dir)"
   ]
  },
  {
   "cell_type": "code",
   "execution_count": 9,
   "metadata": {},
   "outputs": [],
   "source": [
    "# female_dir = \"gender_dataset_v1/female/\"\n",
    "# female_dataset = pd.read_csv(\"valid_train_female_reduced_5_sec.csv\")\n",
    "\n",
    "# for idx, row in female_dataset.iterrows():\n",
    "#     shutil.copy(row[\"filename\"], female_dir)"
   ]
  },
  {
   "cell_type": "code",
   "execution_count": 2,
   "metadata": {},
   "outputs": [],
   "source": [
    "# read json file\n",
    "import json\n",
    "\n",
    "json_path = \"data_gender.json\"\n",
    "with open(json_path, \"r\") as fp:\n",
    "    data = json.load(fp)\n",
    "\n"
   ]
  },
  {
   "cell_type": "code",
   "execution_count": 16,
   "metadata": {},
   "outputs": [
    {
     "data": {
      "text/plain": [
       "3253"
      ]
     },
     "execution_count": 16,
     "metadata": {},
     "output_type": "execute_result"
    }
   ],
   "source": [
    "len(data[\"labels\"])"
   ]
  }
 ],
 "metadata": {
  "kernelspec": {
   "display_name": "venv",
   "language": "python",
   "name": "python3"
  },
  "language_info": {
   "codemirror_mode": {
    "name": "ipython",
    "version": 3
   },
   "file_extension": ".py",
   "mimetype": "text/x-python",
   "name": "python",
   "nbconvert_exporter": "python",
   "pygments_lexer": "ipython3",
   "version": "3.8.6"
  },
  "orig_nbformat": 4
 },
 "nbformat": 4,
 "nbformat_minor": 2
}
